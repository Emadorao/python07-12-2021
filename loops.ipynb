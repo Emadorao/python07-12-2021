{
 "cells": [
  {
   "cell_type": "code",
   "execution_count": 2,
   "metadata": {},
   "outputs": [
    {
     "name": "stdin",
     "output_type": "stream",
     "text": [
      "Please provide your Name: Simeon\n",
      "Please provide your gender: Male\n",
      "Please provide your age: 30\n",
      "Please provide your marital status: Single\n"
     ]
    },
    {
     "name": "stdout",
     "output_type": "stream",
     "text": [
      "congratulations Simeon you have been posted to Rivers\n"
     ]
    }
   ],
   "source": [
    "import random\n",
    "Name = input('Please provide your Name:')\n",
    "gender = input('Please provide your gender:')\n",
    "age  = int(input('Please provide your age:'))\n",
    "marital_status = input('Please provide your marital status:')\n",
    "state = ['Lagos','Edo','Rivers','Delta','Kano','Plateu']\n",
    "if gender == 'Female' and marital_status == 'Married':\n",
    "    print(f'congratulations {Name} you have retained at head office')\n",
    "elif gender == 'Female' and marital_status == 'Single' and  age < 35:\n",
    "    print(f'congratulations {Name} you have been posted to {random.choice(state)}')\n",
    "elif gender == 'Male' and marital_status == 'Single' :\n",
    "    print(f'congratulations {Name} you have been posted to {random.choice(state)}')\n",
    "elif gender == 'Male' and marital_status == 'Married' and  age < 35:\n",
    "    print(f'congratulations {Name} you have been posted to {random.choice(state)} with all allocation paid')\n",
    "elif gender == 'Male' and marital_status == 'Married' and  age >= 35:\n",
    "    print(f'congratulations {Name} you have retained at head office')"
   ]
  },
  {
   "cell_type": "markdown",
   "metadata": {},
   "source": [
    "# loops"
   ]
  },
  {
   "cell_type": "code",
   "execution_count": null,
   "metadata": {},
   "outputs": [],
   "source": [
    "counter = counter + 1   counter+=1\n",
    "counter = counter - 1   counter -=1"
   ]
  },
  {
   "cell_type": "code",
   "execution_count": 3,
   "metadata": {},
   "outputs": [
    {
     "name": "stdout",
     "output_type": "stream",
     "text": [
      "Apple\n",
      "Banana\n",
      "Orange\n",
      "Grape\n"
     ]
    }
   ],
   "source": [
    "fruits = ['Apple','Banana','Orange','Grape']\n",
    "for val in fruits:\n",
    "    print(val)"
   ]
  },
  {
   "cell_type": "code",
   "execution_count": 5,
   "metadata": {},
   "outputs": [
    {
     "name": "stdout",
     "output_type": "stream",
     "text": [
      "Red Apple\n",
      "Yellow Apple\n",
      "Green Apple\n",
      "Red Banana\n",
      "Yellow Banana\n",
      "Green Banana\n",
      "Red Orange\n",
      "Yellow Orange\n",
      "Green Orange\n",
      "Red Grape\n",
      "Yellow Grape\n",
      "Green Grape\n"
     ]
    }
   ],
   "source": [
    "fruits = ['Apple','Banana','Orange','Grape']\n",
    "colors = ['Red','Yellow','Green']\n",
    "for val in fruits:\n",
    "    for col in colors:\n",
    "        print(col,val)"
   ]
  },
  {
   "cell_type": "code",
   "execution_count": 9,
   "metadata": {},
   "outputs": [
    {
     "name": "stdout",
     "output_type": "stream",
     "text": [
      "Apple\n",
      "Banana\n"
     ]
    }
   ],
   "source": [
    "fruits = ['Apple','Banana','Orange','Grape']\n",
    "for i in fruits:\n",
    "    if i == 'Banana':\n",
    "        print(i)\n",
    "        break\n",
    "    print(i)"
   ]
  },
  {
   "cell_type": "code",
   "execution_count": 11,
   "metadata": {},
   "outputs": [
    {
     "name": "stdout",
     "output_type": "stream",
     "text": [
      "Apple\n",
      "Orange\n",
      "Grape\n"
     ]
    }
   ],
   "source": [
    "fruits = ['Apple','Banana','Orange','Grape']\n",
    "for i in fruits:\n",
    "    if i == 'Banana':\n",
    "        #print(i)\n",
    "        continue\n",
    "    print(i)"
   ]
  },
  {
   "cell_type": "code",
   "execution_count": 13,
   "metadata": {},
   "outputs": [
    {
     "name": "stdout",
     "output_type": "stream",
     "text": [
      "Apple\n",
      "Banana\n",
      "Banana\n",
      "Orange\n",
      "Grape\n"
     ]
    }
   ],
   "source": [
    "fruits = ['Apple','Banana','Orange','Grape']\n",
    "for i in fruits:\n",
    "    if i == 'Banana':\n",
    "        #print(i)\n",
    "        pass\n",
    "    print(i)"
   ]
  },
  {
   "cell_type": "code",
   "execution_count": 22,
   "metadata": {},
   "outputs": [
    {
     "name": "stdout",
     "output_type": "stream",
     "text": [
      "1 is an odd number\n",
      "2 is an even number\n",
      "3 is an odd number\n",
      "4 is an even number\n",
      "5 is an odd number\n",
      "6 is an even number\n",
      "7 is an odd number\n",
      "8 is an even number\n",
      "9 is an odd number\n",
      "10 is an even number\n",
      "11 is an odd number\n",
      "12 is an even number\n",
      "13 is an odd number\n",
      "14 is an even number\n",
      "15 is an odd number\n",
      "16 is an even number\n",
      "17 is an odd number\n",
      "18 is an even number\n",
      "19 is an odd number\n",
      "20 is an even number\n",
      "21 is an odd number\n",
      "22 is an even number\n",
      "23 is an odd number\n",
      "24 is an even number\n",
      "25 is an odd number\n",
      "26 is an even number\n",
      "27 is an odd number\n",
      "28 is an even number\n",
      "29 is an odd number\n",
      "30 is an even number\n",
      "31 is an odd number\n",
      "32 is an even number\n",
      "33 is an odd number\n",
      "34 is an even number\n",
      "35 is an odd number\n",
      "36 is an even number\n",
      "37 is an odd number\n",
      "38 is an even number\n",
      "39 is an odd number\n",
      "40 is an even number\n",
      "41 is an odd number\n",
      "42 is an even number\n",
      "43 is an odd number\n",
      "44 is an even number\n",
      "45 is an odd number\n",
      "46 is an even number\n",
      "47 is an odd number\n",
      "48 is an even number\n",
      "49 is an odd number\n",
      "50 is an even number\n"
     ]
    }
   ],
   "source": [
    "for i in range(1,51):\n",
    "    if i % 2 == 1:\n",
    "        print(f'{i} is an odd number')\n",
    "    else:\n",
    "         print(f'{i} is an even number')"
   ]
  },
  {
   "cell_type": "code",
   "execution_count": 27,
   "metadata": {},
   "outputs": [
    {
     "name": "stdin",
     "output_type": "stream",
     "text": [
      "Please provide a number: 25\n"
     ]
    },
    {
     "name": "stdout",
     "output_type": "stream",
     "text": [
      "25 x 1 = 25\n",
      "25 x 2 = 50\n",
      "25 x 3 = 75\n",
      "25 x 4 = 100\n",
      "25 x 5 = 125\n",
      "25 x 6 = 150\n",
      "25 x 7 = 175\n",
      "25 x 8 = 200\n",
      "25 x 9 = 225\n",
      "25 x 10 = 250\n",
      "25 x 11 = 275\n",
      "25 x 12 = 300\n"
     ]
    }
   ],
   "source": [
    "num = int(input('Please provide a number:'))\n",
    "for i in range(1,13):\n",
    "    print(f'{num} x {i} = {num*i}')"
   ]
  },
  {
   "cell_type": "code",
   "execution_count": 3,
   "metadata": {},
   "outputs": [
    {
     "name": "stdin",
     "output_type": "stream",
     "text": [
      "Please provide a number: 30\n"
     ]
    },
    {
     "name": "stdout",
     "output_type": "stream",
     "text": [
      "30 x 1 = 30\n",
      "30 x 2 = 60\n",
      "30 x 3 = 90\n",
      "30 x 4 = 120\n",
      "30 x 5 = 150\n",
      "30 x 6 = 180\n",
      "30 x 7 = 210\n",
      "30 x 8 = 240\n",
      "30 x 9 = 270\n",
      "30 x 10 = 300\n",
      "30 x 11 = 330\n",
      "30 x 12 = 360\n"
     ]
    }
   ],
   "source": [
    "num = int(input('Please provide a number:'))\n",
    "counter = 1\n",
    "while counter <= 12:\n",
    "    print(f'{num} x {counter} = {num*counter}')\n",
    "    counter +=1"
   ]
  },
  {
   "cell_type": "code",
   "execution_count": null,
   "metadata": {},
   "outputs": [
    {
     "name": "stdin",
     "output_type": "stream",
     "text": [
      "Enter your guess between 1 and 20: 5\n"
     ]
    },
    {
     "name": "stdout",
     "output_type": "stream",
     "text": [
      "Your guess is 5\n",
      "Hey guess is below the number\n"
     ]
    },
    {
     "name": "stdin",
     "output_type": "stream",
     "text": [
      "Enter your guess between 1 and 20: 8\n"
     ]
    },
    {
     "name": "stdout",
     "output_type": "stream",
     "text": [
      "Your guess is 8\n",
      "Hey guess is above the number\n"
     ]
    },
    {
     "name": "stdin",
     "output_type": "stream",
     "text": [
      "Enter your guess between 1 and 20: 5\n"
     ]
    },
    {
     "name": "stdout",
     "output_type": "stream",
     "text": [
      "Your guess is 5\n",
      "Hey guess is below the number\n"
     ]
    },
    {
     "name": "stdin",
     "output_type": "stream",
     "text": [
      "Enter your guess between 1 and 20: 8\n"
     ]
    },
    {
     "name": "stdout",
     "output_type": "stream",
     "text": [
      "Your guess is 8\n",
      "Hey guess is above the number\n"
     ]
    },
    {
     "name": "stdin",
     "output_type": "stream",
     "text": [
      "Enter your guess between 1 and 20: 3\n"
     ]
    }
   ],
   "source": [
    "import random\n",
    "num = random.randint(1,21)\n",
    "counter = 0\n",
    "guess = int(input('Enter your guess between 1 and 20:'))\n",
    "while guess != num:\n",
    "    print(f'Your guess is {guess}')\n",
    "    counter+=1\n",
    "    if guess > num:\n",
    "        print('Hey guess is above the number')\n",
    "    elif guess < num:\n",
    "        print('Hey guess is below the number')\n",
    "    guess = int(input('Enter your guess between 1 and 20:'))\n",
    "print('congratulations your guess is correct good job')\n",
    "    "
   ]
  },
  {
   "cell_type": "code",
   "execution_count": null,
   "metadata": {},
   "outputs": [],
   "source": []
  },
  {
   "cell_type": "code",
   "execution_count": null,
   "metadata": {},
   "outputs": [],
   "source": [
    "#select * from table name where gender == 'male' or  gender == 'female'  and age >=15 and age <=29\n"
   ]
  }
 ],
 "metadata": {
  "kernelspec": {
   "display_name": "Python 3",
   "language": "python",
   "name": "python3"
  },
  "language_info": {
   "codemirror_mode": {
    "name": "ipython",
    "version": 3
   },
   "file_extension": ".py",
   "mimetype": "text/x-python",
   "name": "python",
   "nbconvert_exporter": "python",
   "pygments_lexer": "ipython3",
   "version": "3.8.5"
  }
 },
 "nbformat": 4,
 "nbformat_minor": 4
}
