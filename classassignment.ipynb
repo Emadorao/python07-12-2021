{
 "cells": [
  {
   "cell_type": "markdown",
   "metadata": {},
   "source": [
    "# CLASS WORK"
   ]
  },
  {
   "cell_type": "code",
   "execution_count": 13,
   "metadata": {},
   "outputs": [],
   "source": [
    "Admin = {\n",
    "    'Admin1':['Okoro101','codeofschool1'],\n",
    "    'Admin2':['janem20','peopleofpeople1']\n",
    "    }\n",
    "\n",
    "car_details = {\n",
    "    \n",
    "}\n",
    "def addcar():\n",
    "    car_details[input('car ID')]= [input('car brand'),input('car model'),input('car colour'),input('plate number'),int(input('year released')), input('car availability')]\n",
    "    \n",
    "#def modifycar():\n",
    "    #key = input('please provide car id:')\n",
    "    #if \n",
    "def displaycar():\n",
    "    for key, val in car_details.items():\n",
    "        print(key,':', val)\n",
    "def searchcar():\n",
    "    key = input('please provide car id:')\n",
    "    for i in car_details.keys():\n",
    "    for i==key:\n",
    "        print(i)\n",
    "    else:\n",
    "        print('not available')\n"
   ]
  },
  {
   "cell_type": "code",
   "execution_count": 14,
   "metadata": {},
   "outputs": [
    {
     "name": "stdin",
     "output_type": "stream",
     "text": [
      "car brand gtjh\n",
      "car model htyhj\n",
      "car colour gtjjm\n",
      "plate number 4245gfg\n",
      "year released 2002\n",
      "car availability available\n",
      "car ID A001\n"
     ]
    }
   ],
   "source": [
    "addcar()"
   ]
  },
  {
   "cell_type": "code",
   "execution_count": 15,
   "metadata": {},
   "outputs": [
    {
     "name": "stdout",
     "output_type": "stream",
     "text": [
      "{'A001': ['gtjh', 'htyhj', 'gtjjm', '4245gfg', 2002, 'available']}\n"
     ]
    }
   ],
   "source": [
    "print(car_details)"
   ]
  },
  {
   "cell_type": "code",
   "execution_count": null,
   "metadata": {},
   "outputs": [],
   "source": []
  },
  {
   "cell_type": "code",
   "execution_count": null,
   "metadata": {},
   "outputs": [],
   "source": []
  },
  {
   "cell_type": "code",
   "execution_count": null,
   "metadata": {},
   "outputs": [],
   "source": []
  },
  {
   "cell_type": "code",
   "execution_count": 28,
   "metadata": {},
   "outputs": [
    {
     "name": "stdin",
     "output_type": "stream",
     "text": [
      "please enter your birthday date: 10/29/2021\n"
     ]
    },
    {
     "name": "stdout",
     "output_type": "stream",
     "text": [
      "Hey, your birthday is great\n"
     ]
    }
   ],
   "source": [
    "Birthday={\n",
    "    '03/14/2021':'Emmanuel',\n",
    "    '06/20/2021':'Ogechukwu',\n",
    "    '10/29/2021':'Rufai'\n",
    " }\n",
    "\n",
    "Bdate=input('please enter your birthday date:')\n",
    "for i in Birthday.keys():\n",
    "    if i==Bdate:\n",
    "        print('Hey, your birthday is great')\n",
    "        break\n",
    "    \n",
    "else:\n",
    "    print('invalid birthday')"
   ]
  },
  {
   "cell_type": "code",
   "execution_count": 27,
   "metadata": {},
   "outputs": [
    {
     "data": {
      "text/plain": [
       "0.00017062225937995872"
      ]
     },
     "execution_count": 27,
     "metadata": {},
     "output_type": "execute_result"
    }
   ],
   "source": [
    "10/29/2021"
   ]
  },
  {
   "cell_type": "code",
   "execution_count": null,
   "metadata": {},
   "outputs": [],
   "source": []
  },
  {
   "cell_type": "code",
   "execution_count": null,
   "metadata": {},
   "outputs": [],
   "source": []
  },
  {
   "cell_type": "code",
   "execution_count": null,
   "metadata": {},
   "outputs": [],
   "source": []
  }
 ],
 "metadata": {
  "kernelspec": {
   "display_name": "Python 3",
   "language": "python",
   "name": "python3"
  },
  "language_info": {
   "codemirror_mode": {
    "name": "ipython",
    "version": 3
   },
   "file_extension": ".py",
   "mimetype": "text/x-python",
   "name": "python",
   "nbconvert_exporter": "python",
   "pygments_lexer": "ipython3",
   "version": "3.8.5"
  }
 },
 "nbformat": 4,
 "nbformat_minor": 4
}
