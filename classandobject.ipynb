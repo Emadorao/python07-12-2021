{
 "cells": [
  {
   "cell_type": "markdown",
   "metadata": {},
   "source": [
    "# CLASS AND OBJECT"
   ]
  },
  {
   "cell_type": "code",
   "execution_count": 9,
   "metadata": {},
   "outputs": [],
   "source": [
    "class bird:\n",
    "    attr1 = 'Eagle'\n",
    "    attr2 ='Bird'\n",
    "ob = bird()"
   ]
  },
  {
   "cell_type": "markdown",
   "metadata": {},
   "source": []
  },
  {
   "cell_type": "code",
   "execution_count": 4,
   "metadata": {},
   "outputs": [
    {
     "data": {
      "text/plain": [
       "'Eagle'"
      ]
     },
     "execution_count": 4,
     "metadata": {},
     "output_type": "execute_result"
    }
   ],
   "source": [
    "ob.attr1"
   ]
  },
  {
   "cell_type": "code",
   "execution_count": 10,
   "metadata": {},
   "outputs": [
    {
     "data": {
      "text/plain": [
       "'Bird'"
      ]
     },
     "execution_count": 10,
     "metadata": {},
     "output_type": "execute_result"
    }
   ],
   "source": [
    "ob.attr2"
   ]
  },
  {
   "cell_type": "code",
   "execution_count": 12,
   "metadata": {},
   "outputs": [],
   "source": [
    "class bird:\n",
    "    attr1 = 'Eagle'\n",
    "    attr2 ='Bird'\n",
    "    def nameOB(self):\n",
    "        print(f'the name of the bird is {self.attr1}')\n",
    "    def kingdom(self):\n",
    "        print(f'{self.attr1}belongs to the family of {self.attr2}')\n",
    "ob = bird()"
   ]
  },
  {
   "cell_type": "code",
   "execution_count": 13,
   "metadata": {},
   "outputs": [
    {
     "name": "stdout",
     "output_type": "stream",
     "text": [
      "the name of the bird is Eagle\n",
      "None\n",
      "Eaglebelongs to the family of Bird\n",
      "None\n"
     ]
    }
   ],
   "source": [
    "print(ob.nameOB())\n",
    "print(ob.kingdom())"
   ]
  },
  {
   "cell_type": "code",
   "execution_count": 47,
   "metadata": {},
   "outputs": [
    {
     "name": "stdout",
     "output_type": "stream",
     "text": [
      "Mercedes Benz A6 has started\n",
      "None\n"
     ]
    },
    {
     "name": "stdin",
     "output_type": "stream",
     "text": [
      "choose a gear: 5\n"
     ]
    },
    {
     "name": "stdout",
     "output_type": "stream",
     "text": [
      "Gear has been changed to gear5\n",
      "None\n"
     ]
    },
    {
     "name": "stdin",
     "output_type": "stream",
     "text": [
      "choose a nitro option: 1\n"
     ]
    },
    {
     "name": "stdout",
     "output_type": "stream",
     "text": [
      "Nitro Engaged\n",
      "None\n",
      "Mercedes Benz A6 has stopped\n",
      "None\n"
     ]
    }
   ],
   "source": [
    "class nfs:\n",
    "    def __init__(self,Brand,Model,Color,Year,speed):\n",
    "        self.Brand = Brand\n",
    "        self.Model = Model\n",
    "        self.Color = Color\n",
    "        self.Year = Year\n",
    "        self.speed = speed\n",
    "    def start(self):\n",
    "        print(f'{self.Brand} {self.Model} has started')\n",
    "    def gear_brake(self):\n",
    "            choice = int(input('choose a gear:'))\n",
    "            if choice ==1:\n",
    "                print('Gear has been changed to gear1')\n",
    "            elif choice ==2:\n",
    "                 print('Gear has been changed to gear2')\n",
    "            elif choice ==3:\n",
    "                 print('Gear has been changed to gear3')\n",
    "            elif choice ==4:\n",
    "                 print('Gear has been changed to gear4')\n",
    "            elif choice ==5:\n",
    "                 print('Gear has been changed to gear5')\n",
    "            elif choice ==6:\n",
    "                 print('Gear has been changed to reverse')\n",
    "            elif choice ==7:\n",
    "                    print('Brake has been changed')\n",
    "            else:\n",
    "                    print('invalid option')            \n",
    "    def nitro(self):\n",
    "        choice = int(input('choose a nitro option:'))\n",
    "        if choice ==1:\n",
    "            print('Nitro Engaged')\n",
    "        elif choice ==2:\n",
    "            print('Nitro Disengaged')\n",
    "        else:\n",
    "            print('invalid option')\n",
    "    def stop(self):\n",
    "            print(f'{self.Brand} {self.Model} has stopped')\n",
    "            \n",
    "car1=nfs('Mercedes Benz','A6','Black',2020,300)\n",
    "print(car1.start())\n",
    "print(car1.gear_brake())\n",
    "print(car1.nitro())\n",
    "print(car1.stop())"
   ]
  },
  {
   "cell_type": "code",
   "execution_count": 54,
   "metadata": {},
   "outputs": [
    {
     "name": "stdout",
     "output_type": "stream",
     "text": [
      "Lambogini Gallardo has started\n",
      "None\n"
     ]
    },
    {
     "name": "stdin",
     "output_type": "stream",
     "text": [
      "choose a gear: 4\n"
     ]
    },
    {
     "name": "stdout",
     "output_type": "stream",
     "text": [
      "Gear has been changed to gear4\n",
      "None\n"
     ]
    },
    {
     "name": "stdin",
     "output_type": "stream",
     "text": [
      "choose a nitro option: 1\n"
     ]
    },
    {
     "name": "stdout",
     "output_type": "stream",
     "text": [
      "Nitro Engaged\n",
      "None\n",
      "Lambogini Gallardo has stopped\n",
      "None\n"
     ]
    }
   ],
   "source": [
    "class game(nfs):\n",
    "    def opentrunk(self):\n",
    "        choice = int(input('choose a opentrunk option:'))\n",
    "        if choice ==1:\n",
    "            print('Trunk opened')\n",
    "        elif choice ==2:\n",
    "            print('Trunk closed')\n",
    "        else:\n",
    "            print('invalid option')\n",
    "car2 =game('Lambogini','Gallardo','Black',2021,450)\n",
    "print(car2.start())\n",
    "print(car2.gear_brake())\n",
    "print(car2.nitro())\n",
    "print(car2.stop())"
   ]
  },
  {
   "cell_type": "code",
   "execution_count": null,
   "metadata": {},
   "outputs": [],
   "source": []
  }
 ],
 "metadata": {
  "kernelspec": {
   "display_name": "Python 3",
   "language": "python",
   "name": "python3"
  },
  "language_info": {
   "codemirror_mode": {
    "name": "ipython",
    "version": 3
   },
   "file_extension": ".py",
   "mimetype": "text/x-python",
   "name": "python",
   "nbconvert_exporter": "python",
   "pygments_lexer": "ipython3",
   "version": "3.8.5"
  }
 },
 "nbformat": 4,
 "nbformat_minor": 4
}
