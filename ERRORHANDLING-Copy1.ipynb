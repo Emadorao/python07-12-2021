{
 "cells": [
  {
   "cell_type": "markdown",
   "metadata": {},
   "source": [
    "ERROR HANDLING"
   ]
  },
  {
   "cell_type": "code",
   "execution_count": 1,
   "metadata": {},
   "outputs": [],
   "source": [
    "#TRY\n",
    "#EXCEPT\n",
    "#ELSE\n",
    "#FINALLY"
   ]
  },
  {
   "cell_type": "code",
   "execution_count": 2,
   "metadata": {},
   "outputs": [],
   "source": [
    "#TRY this test our code if there will be error or not"
   ]
  },
  {
   "cell_type": "code",
   "execution_count": 18,
   "metadata": {},
   "outputs": [
    {
     "name": "stdout",
     "output_type": "stream",
     "text": [
      "Enter first number:300\n",
      "Enter the second number:100\n",
      "choice an operation(+,-,/,*):+\n",
      "400 you have successfully added the values:\n",
      "300 is an even number\n",
      "End of Program\n"
     ]
    }
   ],
   "source": [
    "try:\n",
    "    num1 = int(input('Enter first number:'))\n",
    "    num2 = int(input('Enter the second number:'))\n",
    "    choice = input('choice an operation(+,-,/,*):')\n",
    "    if choice == '+':\n",
    "        print(f'{num1 + num2} you have successfully added the values:')\n",
    "    elif choice == '-':\n",
    "        print(f'{num1 - num2} have successfully been subtracted:')\n",
    "    elif choice == '/':\n",
    "        print(f'{num1/num2} has been divided:')\n",
    "    elif choice =='*':\n",
    "        print(f'{num1*num2} has been multiplied:') \n",
    "    else:\n",
    "        print('invalid operation')\n",
    "except ValueError:\n",
    "    print('You have entered a wrong value,whole number is expected')\n",
    "except ZeroDivisionError:\n",
    "    print('You cannot divide a number by zero')\n",
    "except:\n",
    "    print('You have encounter one or more errors')\n",
    "else:\n",
    "    if num1 % 2 == 0:\n",
    "        print (f'{num1} is an even number')\n",
    "    else:\n",
    "        print(f'{num1} is an odd number')\n",
    "finally:\n",
    "    print('End of Program')\n",
    "           "
   ]
  },
  {
   "cell_type": "code",
   "execution_count": 25,
   "metadata": {},
   "outputs": [
    {
     "name": "stdout",
     "output_type": "stream",
     "text": [
      "please select from the following rows:row1,row2,row3,row4:row3\n",
      " enjoy snacks and pastries:\n",
      "thank you for patronizing us\n",
      "you are welcome\n"
     ]
    }
   ],
   "source": [
    "try:\n",
    "    row1=('rice of any kind')\n",
    "    row2=('swallow of any kind')\n",
    "    row3=('snacks and pastries')\n",
    "    row4=('peppersoup')\n",
    "    choice= input('please select from the following rows:row1,row2,row3,row4:')\n",
    "    if choice == 'row1':\n",
    "        print(f'enjoy {row1}:')\n",
    "    elif choice== 'row2':\n",
    "        print(f' enjoy {row2}:')\n",
    "    elif choice== 'row3':\n",
    "        print(f' enjoy {row3}:')\n",
    "    elif choice== 'row4':\n",
    "        print(f' enjoy{row4}:')\n",
    "except ValueError:\n",
    "    print('You have entered a wrong value,whole number is expected')\n",
    "except ZeroDivisionError:\n",
    "    print('You cannot divide a number by zero')\n",
    "else:\n",
    "    print('thank you for patronizing us')\n",
    "finally:\n",
    "    print('you are welcome')\n",
    "    "
   ]
  },
  {
   "cell_type": "code",
   "execution_count": null,
   "metadata": {},
   "outputs": [],
   "source": []
  }
 ],
 "metadata": {
  "kernelspec": {
   "display_name": "Python 3",
   "language": "python",
   "name": "python3"
  },
  "language_info": {
   "codemirror_mode": {
    "name": "ipython",
    "version": 3
   },
   "file_extension": ".py",
   "mimetype": "text/x-python",
   "name": "python",
   "nbconvert_exporter": "python",
   "pygments_lexer": "ipython3",
   "version": "3.8.5"
  }
 },
 "nbformat": 4,
 "nbformat_minor": 4
}
