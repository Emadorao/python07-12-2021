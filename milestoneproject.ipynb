{
 "cells": [
  {
   "cell_type": "markdown",
   "metadata": {},
   "source": [
    "# The owner of effective car rental service has ask you to build an admin system that will perform the following operations\n",
    "# 1. Add car details\n",
    "# 2. Modify car details\n",
    "# 3. Display Records\n",
    "# 4. Search for a specific record\n",
    "# 5. Update the returned rented car\n",
    "# 6. Exit"
   ]
  },
  {
   "cell_type": "code",
   "execution_count": 87,
   "metadata": {},
   "outputs": [
    {
     "name": "stdin",
     "output_type": "stream",
     "text": [
      "Enter your id number\n",
      " admin1\n"
     ]
    },
    {
     "name": "stdout",
     "output_type": "stream",
     "text": [
      "Valid user proceed to the dashboard\n",
      "operation\n",
      "Add car\n",
      "Display Car\n",
      "Search Car\n",
      "\n"
     ]
    },
    {
     "name": "stdin",
     "output_type": "stream",
     "text": [
      "Choose your operation: 1\n",
      "Car Brand TOYOTA\n",
      "Car Model CAMRY\n",
      "Car Color RED\n",
      "Plate Number PU859BWR\n",
      "Year Released 2005\n",
      "Car Avalibility AVALIABLE\n",
      "Car ID A001\n"
     ]
    }
   ],
   "source": [
    "admin = {\n",
    "    'admin1':['Okoro101','codeofschool1'],\n",
    "    'admin2':['janem20','peopleofpeople1']\n",
    "}\n",
    "car_details = {\n",
    "    \n",
    "    \n",
    "}\n",
    "def check_admin():\n",
    "    admin_key = input('Enter your id number\\n')\n",
    "    username = admin_key[0]\n",
    "    password = admin_key[1]\n",
    "    for i in admin.keys():\n",
    "        if i == admin_key and i[0] == username and i[1] == password:\n",
    "            print('Valid user proceed to the dashboard')\n",
    "            break\n",
    "    else:\n",
    "        print('Invalid user')\n",
    "            \n",
    "def addcar():\n",
    "    car_details[input('Car ID')] = [input('Car Brand'),input('Car Model'),input('Car Color'),input('Plate Number'),int(input('Year Released')),input('Car Avalibility')]\n",
    "    \n",
    "    \n",
    "#def modifycar():\n",
    "    #key = input('please provide car id:')\n",
    "    #for i in car_details.keys():\n",
    "        #if i == key:\n",
    "def displaycar():\n",
    "    for key,val in car_details.items():\n",
    "        print(key,':',val)\n",
    "def searchcar():\n",
    "    key = input('please provide car id:')\n",
    "    for i in car_details.keys():\n",
    "        if i == key:\n",
    "            print(i)\n",
    "        else:\n",
    "            print('Not Avaliable;')\n",
    "check_admin()\n",
    "def main():\n",
    "    \n",
    "    print('''operation\n",
    "Add car\n",
    "Display Car\n",
    "Search Car\n",
    "''')\n",
    "    choice = int(input('Choose your operation:'))\n",
    "    if choice == 1:\n",
    "        addcar()\n",
    "    elif choice == 2:\n",
    "        displaycar()\n",
    "    elif choice == 3:\n",
    "        searchcar()\n",
    "    else:\n",
    "        print('invalid operation')\n",
    "    \n",
    "main()                    "
   ]
  },
  {
   "cell_type": "code",
   "execution_count": 82,
   "metadata": {},
   "outputs": [
    {
     "name": "stdin",
     "output_type": "stream",
     "text": [
      "Enter your id number\n",
      " admin1\n"
     ]
    },
    {
     "name": "stdout",
     "output_type": "stream",
     "text": [
      "Valid user proceed to the dashboard\n",
      "Invalid user\n"
     ]
    }
   ],
   "source": [
    "check_admin()"
   ]
  },
  {
   "cell_type": "code",
   "execution_count": 4,
   "metadata": {},
   "outputs": [
    {
     "name": "stdout",
     "output_type": "stream",
     "text": [
      "{'A001': ['Merce Benz', 'GLK', 'Black', 'TR2528TRY', 2018, 'Avaliable']}\n"
     ]
    }
   ],
   "source": [
    "print(car_details)"
   ]
  },
  {
   "cell_type": "code",
   "execution_count": 17,
   "metadata": {},
   "outputs": [],
   "source": [
    "c = {\n",
    "\n",
    "    'a':['d','d',2],\n",
    "    'b':['g','d',8]\n",
    "}\n"
   ]
  },
  {
   "cell_type": "code",
   "execution_count": 18,
   "metadata": {},
   "outputs": [],
   "source": [
    "c['b'].append('y')"
   ]
  },
  {
   "cell_type": "code",
   "execution_count": 30,
   "metadata": {},
   "outputs": [
    {
     "data": {
      "text/plain": [
       "dict_keys(['a', 'b'])"
      ]
     },
     "execution_count": 30,
     "metadata": {},
     "output_type": "execute_result"
    }
   ],
   "source": [
    "c.keys()"
   ]
  },
  {
   "cell_type": "code",
   "execution_count": 60,
   "metadata": {},
   "outputs": [
    {
     "name": "stdin",
     "output_type": "stream",
     "text": [
      "please provide car id: p\n"
     ]
    },
    {
     "name": "stdout",
     "output_type": "stream",
     "text": [
      "False\n",
      "False\n"
     ]
    }
   ],
   "source": [
    "num = input('please provide car id:')\n",
    "for i in c.keys():\n",
    "    \n",
    "    if i == num:\n",
    "        if i[]\n",
    "   \n"
   ]
  },
  {
   "cell_type": "code",
   "execution_count": 59,
   "metadata": {},
   "outputs": [
    {
     "data": {
      "text/plain": [
       "{'a': ['y', 'd', 2], 'b': ['g', 'd', 8, 'y']}"
      ]
     },
     "execution_count": 59,
     "metadata": {},
     "output_type": "execute_result"
    }
   ],
   "source": [
    "c"
   ]
  },
  {
   "cell_type": "code",
   "execution_count": null,
   "metadata": {},
   "outputs": [],
   "source": []
  }
 ],
 "metadata": {
  "kernelspec": {
   "display_name": "Python 3",
   "language": "python",
   "name": "python3"
  },
  "language_info": {
   "codemirror_mode": {
    "name": "ipython",
    "version": 3
   },
   "file_extension": ".py",
   "mimetype": "text/x-python",
   "name": "python",
   "nbconvert_exporter": "python",
   "pygments_lexer": "ipython3",
   "version": "3.8.5"
  }
 },
 "nbformat": 4,
 "nbformat_minor": 4
}
