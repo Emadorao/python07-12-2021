{
 "cells": [
  {
   "cell_type": "markdown",
   "metadata": {},
   "source": [
    "# DATETIME"
   ]
  },
  {
   "cell_type": "code",
   "execution_count": null,
   "metadata": {},
   "outputs": [],
   "source": [
    "# EXERCISE\n",
    "# Write a python program to do the following:\n",
    "# 1. have a list of 5 directors\n",
    "# 2 You are to pass a message to these directors reminding them of a meeting\n",
    "# scheduled to hold wednesday 15 december 2021 by 10am prompt\n",
    "\n"
   ]
  },
  {
   "cell_type": "code",
   "execution_count": 10,
   "metadata": {},
   "outputs": [
    {
     "name": "stdout",
     "output_type": "stream",
     "text": [
      "Top of the day Dir of works This is to remind you of our schedule holding on Wednesday 15 December 2021 10AM prompt Thank you\n",
      "Top of the day Dir of service This is to remind you of our schedule holding on Wednesday 15 December 2021 10AM prompt Thank you\n",
      "Top of the day Dir of transport This is to remind you of our schedule holding on Wednesday 15 December 2021 10AM prompt Thank you\n",
      "Top of the day Dir of mining This is to remind you of our schedule holding on Wednesday 15 December 2021 10AM prompt Thank you\n",
      "Top of the day Dir of ICT This is to remind you of our schedule holding on Wednesday 15 December 2021 10AM prompt Thank you\n"
     ]
    }
   ],
   "source": [
    "import datetime\n",
    "\n",
    "c_date = datetime.datetime(2021,12,15,10,0,0,0)\n",
    "directors = ['Dir of works','Dir of service','Dir of transport','Dir of mining','Dir of ICT']\n",
    "for position in directors:\n",
    "    print('Top of the day', position, 'This is to remind you of our schedule holding on',c_date.strftime('%A %d %B %Y %I%p prompt Thank you'))"
   ]
  },
  {
   "cell_type": "code",
   "execution_count": 16,
   "metadata": {},
   "outputs": [
    {
     "name": "stdin",
     "output_type": "stream",
     "text": [
      "please provide us your name: Emmanuel\n",
      "please enter your appointment date(dd/mm/yy) 12/12/2022\n"
     ]
    },
    {
     "name": "stdout",
     "output_type": "stream",
     "text": [
      "HeyEmmanuel you have 53weeks and 6days until your appointment\n"
     ]
    }
   ],
   "source": [
    "name=input('please provide us your name:')\n",
    "user_date = input('please enter your appointment date(dd/mm/yy)')\n",
    "currentdate = datetime.date.today()\n",
    "c_user_date=datetime.datetime.strptime(user_date, '%d/%m/%Y').date()\n",
    "tnodays = c_user_date - currentdate\n",
    "noweeks =tnodays.days//7\n",
    "nodays=tnodays.days % 7\n",
    "print(f'Hey{name} you have {noweeks}weeks and {nodays}days until your appointment')\n"
   ]
  },
  {
   "cell_type": "code",
   "execution_count": 17,
   "metadata": {},
   "outputs": [
    {
     "data": {
      "text/plain": [
       "datetime.timedelta(days=377)"
      ]
     },
     "execution_count": 17,
     "metadata": {},
     "output_type": "execute_result"
    }
   ],
   "source": [
    "tnodays"
   ]
  },
  {
   "cell_type": "markdown",
   "metadata": {},
   "source": [
    "# Assignment"
   ]
  },
  {
   "cell_type": "markdown",
   "metadata": {},
   "source": [
    "# Generate two dice\n",
    "# roll 5times\n",
    "# get the difference in seconds between the first rolling and the last rolling\n"
   ]
  },
  {
   "cell_type": "code",
   "execution_count": null,
   "metadata": {},
   "outputs": [],
   "source": []
  }
 ],
 "metadata": {
  "kernelspec": {
   "display_name": "Python 3",
   "language": "python",
   "name": "python3"
  },
  "language_info": {
   "codemirror_mode": {
    "name": "ipython",
    "version": 3
   },
   "file_extension": ".py",
   "mimetype": "text/x-python",
   "name": "python",
   "nbconvert_exporter": "python",
   "pygments_lexer": "ipython3",
   "version": "3.8.5"
  }
 },
 "nbformat": 4,
 "nbformat_minor": 4
}
