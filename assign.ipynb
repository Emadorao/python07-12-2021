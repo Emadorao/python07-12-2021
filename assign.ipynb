{
 "cells": [
  {
   "cell_type": "code",
   "execution_count": 27,
   "metadata": {},
   "outputs": [
    {
     "name": "stdout",
     "output_type": "stream",
     "text": [
      "please drop a feedback:Thanks for your services\n",
      "CS,AC,AR,DP,WR:WR\n",
      "Dear Customer you can move to the  floor for account opening\n",
      "Thanks for banking with us.\n",
      "Have a fruitful day\n"
     ]
    }
   ],
   "source": [
    "try:\n",
    "    feedback= input('please drop a feedback:')\n",
    "    choice= input('CS,AC,AR,DP,WR:')\n",
    "    if choice=='CS':\n",
    "        print('Dear Customer move to first floor to see our customer care representative')\n",
    "    elif choice=='AC':\n",
    "        print('Dear Customer you can move to the second floor for account opening')\n",
    "    elif choice=='AR':\n",
    "        print('Dear Customer you can move to the third floor for atm request')\n",
    "    elif choice=='WR':\n",
    "        print('Dear Customer you can move to the  floor for account opening')\n",
    "except ValueError:\n",
    "    print('You have entered a wrong value,whole number is expected')\n",
    "except ZeroDivisionError:\n",
    "    print('You cannot divide a number by zero')\n",
    "else:\n",
    "    print('Thanks for banking with us.')\n",
    "finally:\n",
    "    print('Have a fruitful day')\n",
    "    "
   ]
  },
  {
   "cell_type": "code",
   "execution_count": null,
   "metadata": {},
   "outputs": [],
   "source": []
  },
  {
   "cell_type": "code",
   "execution_count": null,
   "metadata": {},
   "outputs": [],
   "source": []
  },
  {
   "cell_type": "code",
   "execution_count": null,
   "metadata": {},
   "outputs": [],
   "source": []
  },
  {
   "cell_type": "code",
   "execution_count": null,
   "metadata": {},
   "outputs": [],
   "source": []
  },
  {
   "cell_type": "code",
   "execution_count": null,
   "metadata": {},
   "outputs": [],
   "source": []
  }
 ],
 "metadata": {
  "kernelspec": {
   "display_name": "Python 3",
   "language": "python",
   "name": "python3"
  },
  "language_info": {
   "codemirror_mode": {
    "name": "ipython",
    "version": 3
   },
   "file_extension": ".py",
   "mimetype": "text/x-python",
   "name": "python",
   "nbconvert_exporter": "python",
   "pygments_lexer": "ipython3",
   "version": "3.8.5"
  }
 },
 "nbformat": 4,
 "nbformat_minor": 4
}
