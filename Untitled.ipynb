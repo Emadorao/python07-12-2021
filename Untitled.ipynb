{
 "cells": [
  {
   "cell_type": "code",
   "execution_count": 1,
   "metadata": {},
   "outputs": [],
   "source": [
    "import mysql.connector"
   ]
  },
  {
   "cell_type": "code",
   "execution_count": 2,
   "metadata": {},
   "outputs": [
    {
     "name": "stdout",
     "output_type": "stream",
     "text": [
      "('football_management',)\n",
      "('goods',)\n",
      "('information_schema',)\n",
      "('mysql',)\n",
      "('performance_schema',)\n",
      "('sakila',)\n",
      "('sys',)\n",
      "('world',)\n"
     ]
    }
   ],
   "source": [
    "mydb = mysql.connector.connect(\n",
    "    host ='localhost',\n",
    "    user = 'root',\n",
    "    password='Emadora5000'\n",
    ")\n",
    "mycursor = mydb.cursor()\n",
    "mycursor.execute('SHOW DATABASES')\n",
    "for x in mycursor:\n",
    "        print (x)"
   ]
  },
  {
   "cell_type": "code",
   "execution_count": 3,
   "metadata": {},
   "outputs": [],
   "source": [
    "mydb = mysql.connector.connect(\n",
    "    host ='localhost',\n",
    "    user = 'root',\n",
    "    password='Emadora5000',\n",
    "    database = 'football_management'\n",
    ")\n",
    "mycursor = mydb.cursor()\n",
    "mycursor.execute('CREATE TABLE laliga(id int, club_name varchar(255), city varchar(255), club_networth varchar(255), Current_position int, number_of_Trophies int)')"
   ]
  },
  {
   "cell_type": "code",
   "execution_count": 33,
   "metadata": {},
   "outputs": [
    {
     "ename": "SyntaxError",
     "evalue": "invalid syntax (<ipython-input-33-7b07a4c793ba>, line 7)",
     "output_type": "error",
     "traceback": [
      "\u001b[1;36m  File \u001b[1;32m\"<ipython-input-33-7b07a4c793ba>\"\u001b[1;36m, line \u001b[1;32m7\u001b[0m\n\u001b[1;33m    sql= 'INSERT INTO laliga(id, club_name, city, club_networth, Current_position, number_of_Trophies) VALUES (%s,%s,%s,%s,%s,%s)'\u001b[0m\n\u001b[1;37m    ^\u001b[0m\n\u001b[1;31mSyntaxError\u001b[0m\u001b[1;31m:\u001b[0m invalid syntax\n"
     ]
    }
   ],
   "source": [
    "mydb = mysql.connector.connect(\n",
    "    host ='localhost',\n",
    "    user = 'root',\n",
    "    password='Emadora5000',\n",
    "    database = 'football_management'\n",
    "    \n",
    "sql= 'INSERT INTO laliga(id, club_name, city, club_networth, Current_position, number_of_Trophies) VALUES (%s,%s,%s,%s,%s,%s)'\n",
    "Val=  [(1, 'chelsea','london','190bn$',1,17),\n",
    "      (2, 'liverpool','mercyside','224bn$',2,15),\n",
    "      (3, 'mancity','manchester','250bn$',3,14),\n",
    "      (4, 'westham','london','260bn$',4,13),\n",
    "      (5, 'Arsenal','london','265bn$',5,12),\n",
    "      (6, 'Arsenal','UK','265bn$',5,12),\n",
    "      (7, 'Arsenal','Dublin','265bn$',3,14),\n",
    "      (8, 'Arsenal','london','265bn$',5,12),\n",
    "      (9, 'Arsenal','Abroad','265bn$',5,13),\n",
    "      (10, 'Arsenal','london','265bn$',5,12)]\n",
    "    \n",
    "mycursor = mydb.cursor()\n",
    "mycursor.executemany(sql, Val)\n",
    "mydb.commit()\n",
    "print(mycursor.rowcount, 'records was inserted')"
   ]
  },
  {
   "cell_type": "code",
   "execution_count": null,
   "metadata": {},
   "outputs": [],
   "source": []
  },
  {
   "cell_type": "code",
   "execution_count": null,
   "metadata": {},
   "outputs": [],
   "source": []
  }
 ],
 "metadata": {
  "kernelspec": {
   "display_name": "Python 3",
   "language": "python",
   "name": "python3"
  },
  "language_info": {
   "codemirror_mode": {
    "name": "ipython",
    "version": 3
   },
   "file_extension": ".py",
   "mimetype": "text/x-python",
   "name": "python",
   "nbconvert_exporter": "python",
   "pygments_lexer": "ipython3",
   "version": "3.8.5"
  }
 },
 "nbformat": 4,
 "nbformat_minor": 4
}
