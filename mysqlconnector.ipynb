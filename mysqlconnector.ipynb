{
 "cells": [
  {
   "cell_type": "code",
   "execution_count": 2,
   "metadata": {},
   "outputs": [],
   "source": [
    "import mysql.connector"
   ]
  },
  {
   "cell_type": "code",
   "execution_count": 6,
   "metadata": {},
   "outputs": [
    {
     "name": "stdout",
     "output_type": "stream",
     "text": [
      "('football_management',)\n",
      "('goods',)\n",
      "('information_schema',)\n",
      "('mysql',)\n",
      "('performance_schema',)\n",
      "('sakila',)\n",
      "('sys',)\n",
      "('world',)\n"
     ]
    }
   ],
   "source": [
    "mydb = mysql.connector.connect(\n",
    "    host ='localhost',\n",
    "    user = 'root',\n",
    "    password='Emadora5000'\n",
    ")\n",
    "mycursor = mydb.cursor()\n",
    "mycursor.execute('SHOW DATABASES')\n",
    "for x in mycursor:\n",
    "        print (x)"
   ]
  },
  {
   "cell_type": "code",
   "execution_count": 14,
   "metadata": {},
   "outputs": [],
   "source": [
    "mydb = mysql.connector.connect(\n",
    "    host ='localhost',\n",
    "    user = 'root',\n",
    "    password='Emadora5000',\n",
    "    database = 'goods'\n",
    ")\n",
    "mycursor = mydb.cursor()\n",
    "mycursor.execute('CREATE TABLE item2(id int, item_serial_no varchar(255), item_name varchar(255), old_quantity int, new_quantity int,date_of_delivery date)')"
   ]
  },
  {
   "cell_type": "code",
   "execution_count": 19,
   "metadata": {},
   "outputs": [
    {
     "name": "stdout",
     "output_type": "stream",
     "text": [
      "1 records was inserted\n"
     ]
    }
   ],
   "source": [
    "mydb = mysql.connector.connect(\n",
    "    host ='localhost',\n",
    "    user = 'root',\n",
    "    password='Emadora5000',\n",
    "    database = 'goods'\n",
    ")\n",
    "sql= 'INSERT INTO item2(id, item_serial_no, item_name, old_quantity, new_quantity,date_of_delivery) VALUES (%s,%s,%s,%s,%s,%s)'\n",
    "Val= (1,'PLATE0258','PLATE',15,80,'2021-11-20')\n",
    "mycursor = mydb.cursor()\n",
    "mycursor.execute(sql, Val)\n",
    "mydb.commit()\n",
    "print(mycursor.rowcount, 'records was inserted')"
   ]
  },
  {
   "cell_type": "code",
   "execution_count": 21,
   "metadata": {},
   "outputs": [
    {
     "name": "stdout",
     "output_type": "stream",
     "text": [
      "9 records was inserted\n"
     ]
    }
   ],
   "source": [
    "mydb = mysql.connector.connect(\n",
    "    host ='localhost',\n",
    "    user = 'root',\n",
    "    password='Emadora5000',\n",
    "    database = 'goods'\n",
    ")\n",
    "sql= 'INSERT INTO item2(id, item_serial_no, item_name, old_quantity, new_quantity,date_of_delivery) VALUES (%s,%s,%s,%s,%s,%s)'\n",
    "Val = [(2, 'SPOON5689', 'Spoon', 25,100,'2021-11-21'),\n",
    "       (2, 'CUP898', 'Cups', 65,80,'2021-11-22'),\n",
    "       (2, 'BLADE23689', 'BLADE', 25,100,'2021-11-22'),\n",
    "       (2, 'MOP89569', 'MOPING STICK', 100,100,'2021-11-23'),\n",
    "       (2, 'BUCKET5689', 'SBUCKET', 25,100,'2021-11-24'),\n",
    "       (2, 'BRUSH5689', 'Brush', 25,100,'2021-11-24'),\n",
    "       (2, 'SHOE5689', 'Boot', 25,100,'2021-11-24'),\n",
    "       (2, 'SHOE5689', 'Slippers', 25,100,'2021-11-24'),\n",
    "       (2, 'SHOE689', 'Sandals', 25,100,'2021-11-24')]\n",
    "\n",
    "mycursor = mydb.cursor()\n",
    "mycursor.executemany(sql, Val)\n",
    "mydb.commit()\n",
    "print(mycursor.rowcount, 'records was inserted')"
   ]
  },
  {
   "cell_type": "code",
   "execution_count": 30,
   "metadata": {},
   "outputs": [
    {
     "name": "stdout",
     "output_type": "stream",
     "text": [
      "(1, 'PLATE0258', 'PLATE', 15, 80, datetime.date(2021, 11, 20))\n",
      "(2, 'SPOON5689', 'Spoon', 25, 100, datetime.date(2021, 11, 21))\n",
      "(2, 'CUP898', 'Cups', 65, 80, datetime.date(2021, 11, 22))\n",
      "(2, 'BLADE23689', 'BLADE', 25, 100, datetime.date(2021, 11, 22))\n",
      "(2, 'MOP89569', 'MOPING STICK', 100, 100, datetime.date(2021, 11, 23))\n",
      "(2, 'BUCKET5689', 'SBUCKET', 25, 100, datetime.date(2021, 11, 24))\n",
      "(2, 'BRUSH5689', 'Brush', 25, 100, datetime.date(2021, 11, 24))\n",
      "(2, 'SHOE5689', 'Boot', 25, 100, datetime.date(2021, 11, 24))\n",
      "(2, 'SHOE5689', 'Slippers', 25, 100, datetime.date(2021, 11, 24))\n",
      "(2, 'SHOE689', 'Sandals', 25, 100, datetime.date(2021, 11, 24))\n"
     ]
    }
   ],
   "source": [
    "mydb = mysql.connector.connect(\n",
    "    host ='localhost',\n",
    "    user = 'root',\n",
    "    password='Emadora5000',\n",
    "    database = 'goods'\n",
    ")\n",
    "mycursor = mydb.cursor()\n",
    "mycursor.execute('SELECT * FROM item2')\n",
    "result = mycursor.fetchall()\n",
    "for x in result:\n",
    "    print (x)"
   ]
  },
  {
   "cell_type": "code",
   "execution_count": 31,
   "metadata": {},
   "outputs": [
    {
     "name": "stdout",
     "output_type": "stream",
     "text": [
      "(2, 'SPOON5689', 'Spoon', 25, 100, datetime.date(2021, 11, 21))\n",
      "(2, 'BLADE23689', 'BLADE', 25, 100, datetime.date(2021, 11, 22))\n",
      "(2, 'MOP89569', 'MOPING STICK', 100, 100, datetime.date(2021, 11, 23))\n",
      "(2, 'BUCKET5689', 'SBUCKET', 25, 100, datetime.date(2021, 11, 24))\n",
      "(2, 'BRUSH5689', 'Brush', 25, 100, datetime.date(2021, 11, 24))\n",
      "(2, 'SHOE5689', 'Boot', 25, 100, datetime.date(2021, 11, 24))\n",
      "(2, 'SHOE5689', 'Slippers', 25, 100, datetime.date(2021, 11, 24))\n",
      "(2, 'SHOE689', 'Sandals', 25, 100, datetime.date(2021, 11, 24))\n"
     ]
    }
   ],
   "source": [
    "mydb = mysql.connector.connect(\n",
    "    host ='localhost',\n",
    "    user = 'root',\n",
    "    password='Emadora5000',\n",
    "    database = 'goods'\n",
    "    )\n",
    "mycursor = mydb.cursor()\n",
    "mycursor.execute('SELECT * FROM item2 WHERE new_quantity = 100')\n",
    "result = mycursor.fetchall()\n",
    "for x in result:\n",
    "    print (x)"
   ]
  },
  {
   "cell_type": "code",
   "execution_count": null,
   "metadata": {},
   "outputs": [],
   "source": []
  }
 ],
 "metadata": {
  "kernelspec": {
   "display_name": "Python 3",
   "language": "python",
   "name": "python3"
  },
  "language_info": {
   "codemirror_mode": {
    "name": "ipython",
    "version": 3
   },
   "file_extension": ".py",
   "mimetype": "text/x-python",
   "name": "python",
   "nbconvert_exporter": "python",
   "pygments_lexer": "ipython3",
   "version": "3.8.5"
  }
 },
 "nbformat": 4,
 "nbformat_minor": 4
}
