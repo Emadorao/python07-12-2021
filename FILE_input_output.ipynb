{
 "cells": [
  {
   "cell_type": "markdown",
   "metadata": {},
   "source": [
    "# Files\n",
    "# Files are named locations on disk to store related information. They are used to permanently store data in a non-volatile memory (e.g. hard disk).\n",
    "\n",
    "# Since Random Access Memory (RAM) is volatile (which loses its data when the computer is turned off), we use files for future use of the data by permanently storing them.\n",
    "\n",
    "# When we want to read from or write to a file, we need to open it first. When we are done, it needs to be closed so that the resources that are tied with the file are freed.\n",
    "\n",
    "# Hence, in Python, a file operation takes place in the following order:\n",
    "\n",
    "# Open a file\n",
    "# Read or write (perform operation)\n",
    "# Close the file"
   ]
  },
  {
   "cell_type": "code",
   "execution_count": 1,
   "metadata": {},
   "outputs": [],
   "source": [
    "file = open('demo.txt','w')\n",
    "file.write('''Files\n",
    "Files are named locations on disk to store related information. They are used to permanently store data in a non-volatile memory (e.g. hard disk).\n",
    "Since Random Access Memory (RAM) is volatile (which loses its data when the computer is turned off), we use files for future use of the data by permanently storing them.\n",
    "When we want to read from or write to a file, we need to open it first. When we are done, it needs to be closed so that the resources that are tied with the file are freed.\n",
    "Hence, in Python, a file operation takes place in the following order:\n",
    "Open a file\n",
    "Read or write (perform operation)\n",
    "Close the file\n",
    "''')\n",
    "file.close()"
   ]
  },
  {
   "cell_type": "code",
   "execution_count": 3,
   "metadata": {},
   "outputs": [
    {
     "name": "stdout",
     "output_type": "stream",
     "text": [
      "print('hello world')\n",
      "number = 8\n",
      "number2 = 12.5\n",
      "word = 'Simeon'\n",
      "x = True\n",
      "\n",
      "WHOLENUMBER = 50 #uppercase naming stlye\n",
      "decimal_number = 15.5 # snake naming stlye\n",
      "Firstname = 'Simeon' # camel naming style\n",
      "SecondName = 'Taiwo' # Pascal naming style\n",
      "print(WHOLENUMBER)\n",
      "word  = 'we\\'re brothers from the other side of the town'\n",
      "print(word)\n",
      "poem ='oh what a great country,\\na country filled with honey and milk,\\nHope to always eat from the good of the land'\n",
      "print(poem)\n",
      "print('\\n')\n",
      "poem2 = '''oh what a great country,\n",
      "a country filled with honey and milk,\n",
      "Hope to always eat from the good of the land\n",
      "'''\n",
      "print(poem2)\n",
      "print('\\n')\n",
      "print('python' + ' '+'course') #joining of string and string\n",
      "course = 'Python'\n",
      "print('Hey', course, 'is fun') # joining of variable and string\n",
      "\n"
     ]
    }
   ],
   "source": [
    "file1 = open('day1.py','r')\n",
    "print(file1.read())\n",
    "file1.close()"
   ]
  },
  {
   "cell_type": "code",
   "execution_count": 4,
   "metadata": {},
   "outputs": [],
   "source": [
    "file2 = open('demo.txt','a')\n",
    "file2.write('\\nPython is fun,easy to use and has a very friendly interface')\n",
    "file2.close()"
   ]
  },
  {
   "cell_type": "code",
   "execution_count": 6,
   "metadata": {},
   "outputs": [
    {
     "name": "stdout",
     "output_type": "stream",
     "text": [
      "Files\n",
      "Files are named locations on disk to store related information. They are used to permanently store data in a non-volatile memory (e.g. hard disk).\n",
      "Since Random Access Memory (RAM) is volatile (which loses its data when the computer is turned off), we use files for future use of the data by permanently storing them.\n",
      "When we want to read from or write to a file, we need to open it first. When we are done, it needs to be closed so that the resources that are tied with the file are freed.\n",
      "Hence, in Python, a file operation takes place in the following order:\n",
      "Open a file\n",
      "Read or write (perform operation)\n",
      "Close the file\n",
      "\n",
      "Python is fun,easy to use and has a very friendly interface\n",
      "Below are the content in python\n",
      "1. Syntax\n",
      "2. Variables\n",
      "3. Data types\n",
      "4. Iterable object\n",
      "5. Operators\n",
      "6. Control flow program\n",
      "7. OOP etc..........\n",
      "\n"
     ]
    }
   ],
   "source": [
    "file3 = open('demo.txt','r+')\n",
    "print(file3.read())\n",
    "file3.write('''\\nBelow are the content in python\n",
    "1. Syntax\n",
    "2. Variables\n",
    "3. Data types\n",
    "4. Iterable object\n",
    "5. Operators\n",
    "6. Control flow program\n",
    "7. OOP etc..........\n",
    "''')\n",
    "file3.close()"
   ]
  },
  {
   "cell_type": "code",
   "execution_count": 15,
   "metadata": {},
   "outputs": [],
   "source": [
    "file4 = open('guestlist.doc', 'w')\n",
    "file4.write('''GUEST NAME                         TIME OF ARRIVAL\n",
    "OLa Ade                            11:59 AM\n",
    "Mercy Njoku                        11:59 AM\n",
    "Hope Nat                           11:59 AM\n",
    "Jame John                          11:59 AM\n",
    "Rash Henry                         11:59 AM\n",
    "''')\n",
    "file4.close()"
   ]
  },
  {
   "cell_type": "code",
   "execution_count": 49,
   "metadata": {},
   "outputs": [
    {
     "name": "stdout",
     "output_type": "stream",
     "text": [
      "The largest word is used\n",
      "The smallest word is Files\n",
      "end of programm\n"
     ]
    }
   ],
   "source": [
    "#try:\n",
    "file = open('demo.txt','r')\n",
    "content = file.read()\n",
    "words = content.split()\n",
    "#except FileNotFoundError:\n",
    "    #print('The file you are trying to read does not exits')\n",
    "#except:\n",
    "    #print('You have encountered one or more errors')\n",
    "#else:\n",
    "small = large = len(words[0])\n",
    "for i in range(0,len(words)):\n",
    "    word = len(words[i])\n",
    "    if word < small:\n",
    "        small = word\n",
    "    if word > large:\n",
    "        large = word\n",
    "print('The largest word is', words[large])\n",
    "print('The smallest word is', words[small])\n",
    "#finally:\n",
    "print('end of programm')"
   ]
  },
  {
   "cell_type": "code",
   "execution_count": 44,
   "metadata": {},
   "outputs": [
    {
     "ename": "NameError",
     "evalue": "name 'words' is not defined",
     "output_type": "error",
     "traceback": [
      "\u001b[1;31m---------------------------------------------------------------------------\u001b[0m",
      "\u001b[1;31mNameError\u001b[0m                                 Traceback (most recent call last)",
      "\u001b[1;32m<ipython-input-44-730c51b3e7e0>\u001b[0m in \u001b[0;36m<module>\u001b[1;34m\u001b[0m\n\u001b[1;32m----> 1\u001b[1;33m \u001b[0mwords\u001b[0m\u001b[1;33m\u001b[0m\u001b[1;33m\u001b[0m\u001b[0m\n\u001b[0m",
      "\u001b[1;31mNameError\u001b[0m: name 'words' is not defined"
     ]
    }
   ],
   "source": [
    "words"
   ]
  },
  {
   "cell_type": "code",
   "execution_count": null,
   "metadata": {},
   "outputs": [],
   "source": []
  }
 ],
 "metadata": {
  "kernelspec": {
   "display_name": "Python 3",
   "language": "python",
   "name": "python3"
  },
  "language_info": {
   "codemirror_mode": {
    "name": "ipython",
    "version": 3
   },
   "file_extension": ".py",
   "mimetype": "text/x-python",
   "name": "python",
   "nbconvert_exporter": "python",
   "pygments_lexer": "ipython3",
   "version": "3.8.5"
  }
 },
 "nbformat": 4,
 "nbformat_minor": 4
}
